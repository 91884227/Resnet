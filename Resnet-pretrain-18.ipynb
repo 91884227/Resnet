{
 "cells": [
  {
   "cell_type": "markdown",
   "metadata": {},
   "source": [
    "# import tool"
   ]
  },
  {
   "cell_type": "code",
   "execution_count": 1,
   "metadata": {},
   "outputs": [],
   "source": [
    "import numpy as np\n",
    "import datetime\n",
    "from tqdm.notebook import tqdm\n",
    "import torch\n",
    "import torch.nn as nn\n",
    "import torch.optim as optim\n",
    "import torchvision.datasets as dset\n",
    "import torchvision.transforms as transforms\n",
    "import torchvision.models as models"
   ]
  },
  {
   "cell_type": "markdown",
   "metadata": {},
   "source": [
    "# read data"
   ]
  },
  {
   "cell_type": "code",
   "execution_count": 2,
   "metadata": {},
   "outputs": [],
   "source": [
    "BATCH_SIZE = 4\n",
    "dataset = dset.ImageFolder(root = \"traindata\",\n",
    "                           transform=transforms.Compose([transforms.Resize([224, 224]), \n",
    "                                                         transforms.ToTensor(),\n",
    "                                                         transforms.Normalize((0.5, 0.5, 0.5), (0.5, 0.5, 0.5)),\n",
    "                                                        ]))\n",
    "train_loader = torch.utils.data.DataLoader(dataset, batch_size = BATCH_SIZE, shuffle = True)  "
   ]
  },
  {
   "cell_type": "code",
   "execution_count": 3,
   "metadata": {},
   "outputs": [],
   "source": [
    "dataset = dset.ImageFolder(root = \"testdata\",\n",
    "                           transform=transforms.Compose([transforms.Resize([224, 224]), \n",
    "                                                         transforms.ToTensor(),\n",
    "                                                         transforms.Normalize((0.5, 0.5, 0.5), (0.5, 0.5, 0.5)),\n",
    "                                                        ]))\n",
    "test_loader = torch.utils.data.DataLoader(dataset, batch_size = BATCH_SIZE, shuffle = False)  "
   ]
  },
  {
   "cell_type": "markdown",
   "metadata": {},
   "source": [
    "# predict function"
   ]
  },
  {
   "cell_type": "code",
   "execution_count": 4,
   "metadata": {},
   "outputs": [],
   "source": [
    "def get_prediction(data_loader_):\n",
    "    data_loader = data_loader_\n",
    "    \n",
    "    total = 0\n",
    "    correct = 0\n",
    "    \n",
    "    with torch.no_grad():\n",
    "        for X, y in data_loader:\n",
    "            X, y = X.to(DEVICE), y.to(DEVICE)\n",
    "            outputs = net(X)\n",
    "            _, pred = torch.max(outputs, 1)\n",
    "\n",
    "            correct = correct + torch.sum(pred == y).item()\n",
    "            total = total + len(y)\n",
    "    \n",
    "    return( correct/total )"
   ]
  },
  {
   "cell_type": "markdown",
   "metadata": {},
   "source": [
    "# network structure"
   ]
  },
  {
   "cell_type": "code",
   "execution_count": 5,
   "metadata": {},
   "outputs": [],
   "source": [
    "DEVICE = \"cuda:0\"\n",
    "net = models.resnet18(pretrained=True)\n",
    "\n",
    "\"\"\"def set_parameter_requires_grad(model, feature_extracting):\n",
    "    if feature_extracting:\n",
    "        for param in model.parameters():\n",
    "            param.requires_grad = False\n",
    "\n",
    "set_parameter_requires_grad(net, feature_extracting = True)\"\"\"\n",
    "num_ftrs = net.fc.in_features\n",
    "\n",
    "net.fc = nn.Linear(num_ftrs, 5)\n",
    "\n",
    "net = net.to(DEVICE)"
   ]
  },
  {
   "cell_type": "markdown",
   "metadata": {},
   "source": [
    "# loss"
   ]
  },
  {
   "cell_type": "code",
   "execution_count": 6,
   "metadata": {},
   "outputs": [],
   "source": [
    "criterion = nn.CrossEntropyLoss()"
   ]
  },
  {
   "cell_type": "markdown",
   "metadata": {},
   "source": [
    "# optimizer"
   ]
  },
  {
   "cell_type": "code",
   "execution_count": 7,
   "metadata": {},
   "outputs": [],
   "source": [
    "LR = 0.0001\n",
    "optimizer = optim.SGD(net.parameters(), lr = LR, weight_decay=0.0005, momentum=0.9)"
   ]
  },
  {
   "cell_type": "markdown",
   "metadata": {},
   "source": [
    "# start train"
   ]
  },
  {
   "cell_type": "code",
   "execution_count": 8,
   "metadata": {},
   "outputs": [
    {
     "name": "stdout",
     "output_type": "stream",
     "text": [
      "2020-08-04 00:00:00\n"
     ]
    },
    {
     "data": {
      "application/vnd.jupyter.widget-view+json": {
       "model_id": "5f3e60f9ec8e4a6684afe2f35217afe3",
       "version_major": 2,
       "version_minor": 0
      },
      "text/plain": [
       "HBox(children=(FloatProgress(value=0.0, max=7025.0), HTML(value='')))"
      ]
     },
     "metadata": {},
     "output_type": "display_data"
    },
    {
     "name": "stdout",
     "output_type": "stream",
     "text": [
      "\n",
      "==== EPOCH 1/20 ====\n",
      "loss: 5585.0540\n",
      "train acc: 0.7474 ||| test acc: 0.7302\n"
     ]
    },
    {
     "data": {
      "application/vnd.jupyter.widget-view+json": {
       "model_id": "16902fec4b6f493f8b3f6a0cb051fe92",
       "version_major": 2,
       "version_minor": 0
      },
      "text/plain": [
       "HBox(children=(FloatProgress(value=0.0, max=7025.0), HTML(value='')))"
      ]
     },
     "metadata": {},
     "output_type": "display_data"
    },
    {
     "name": "stdout",
     "output_type": "stream",
     "text": [
      "\n",
      "==== EPOCH 2/20 ====\n",
      "loss: 5133.5474\n",
      "train acc: 0.7630 ||| test acc: 0.7320\n"
     ]
    },
    {
     "data": {
      "application/vnd.jupyter.widget-view+json": {
       "model_id": "7369aa8c8bf346f3919d6b2ef033898f",
       "version_major": 2,
       "version_minor": 0
      },
      "text/plain": [
       "HBox(children=(FloatProgress(value=0.0, max=7025.0), HTML(value='')))"
      ]
     },
     "metadata": {},
     "output_type": "display_data"
    },
    {
     "name": "stdout",
     "output_type": "stream",
     "text": [
      "\n",
      "==== EPOCH 3/20 ====\n",
      "loss: 4863.6559\n",
      "train acc: 0.7838 ||| test acc: 0.7149\n"
     ]
    },
    {
     "data": {
      "application/vnd.jupyter.widget-view+json": {
       "model_id": "ac12f3dd3ffa4aea95d8e576a2152823",
       "version_major": 2,
       "version_minor": 0
      },
      "text/plain": [
       "HBox(children=(FloatProgress(value=0.0, max=7025.0), HTML(value='')))"
      ]
     },
     "metadata": {},
     "output_type": "display_data"
    },
    {
     "name": "stdout",
     "output_type": "stream",
     "text": [
      "\n",
      "==== EPOCH 4/20 ====\n",
      "loss: 4621.3932\n",
      "train acc: 0.7943 ||| test acc: 0.7209\n"
     ]
    },
    {
     "data": {
      "application/vnd.jupyter.widget-view+json": {
       "model_id": "4dca5a57fded429dbcbfc0e83306920d",
       "version_major": 2,
       "version_minor": 0
      },
      "text/plain": [
       "HBox(children=(FloatProgress(value=0.0, max=7025.0), HTML(value='')))"
      ]
     },
     "metadata": {},
     "output_type": "display_data"
    },
    {
     "name": "stdout",
     "output_type": "stream",
     "text": [
      "\n",
      "==== EPOCH 5/20 ====\n",
      "loss: 4397.3102\n",
      "train acc: 0.8011 ||| test acc: 0.7274\n"
     ]
    },
    {
     "data": {
      "application/vnd.jupyter.widget-view+json": {
       "model_id": "faad14ce04d84b3fa92cb4cc8dbf801b",
       "version_major": 2,
       "version_minor": 0
      },
      "text/plain": [
       "HBox(children=(FloatProgress(value=0.0, max=7025.0), HTML(value='')))"
      ]
     },
     "metadata": {},
     "output_type": "display_data"
    },
    {
     "name": "stdout",
     "output_type": "stream",
     "text": [
      "\n",
      "==== EPOCH 6/20 ====\n",
      "loss: 4115.9777\n",
      "train acc: 0.8073 ||| test acc: 0.6791\n"
     ]
    },
    {
     "data": {
      "application/vnd.jupyter.widget-view+json": {
       "model_id": "f406cf59196f48d38e8dee8506511e52",
       "version_major": 2,
       "version_minor": 0
      },
      "text/plain": [
       "HBox(children=(FloatProgress(value=0.0, max=7025.0), HTML(value='')))"
      ]
     },
     "metadata": {},
     "output_type": "display_data"
    },
    {
     "name": "stdout",
     "output_type": "stream",
     "text": [
      "\n",
      "==== EPOCH 7/20 ====\n",
      "loss: 3886.9651\n",
      "train acc: 0.8286 ||| test acc: 0.6974\n"
     ]
    },
    {
     "data": {
      "application/vnd.jupyter.widget-view+json": {
       "model_id": "de92a10ff77341fd995494804f693b24",
       "version_major": 2,
       "version_minor": 0
      },
      "text/plain": [
       "HBox(children=(FloatProgress(value=0.0, max=7025.0), HTML(value='')))"
      ]
     },
     "metadata": {},
     "output_type": "display_data"
    },
    {
     "name": "stdout",
     "output_type": "stream",
     "text": [
      "\n",
      "==== EPOCH 8/20 ====\n",
      "loss: 3636.3650\n",
      "train acc: 0.8469 ||| test acc: 0.7180\n"
     ]
    },
    {
     "data": {
      "application/vnd.jupyter.widget-view+json": {
       "model_id": "63f4dbf52c8c4951af18254142a25bb8",
       "version_major": 2,
       "version_minor": 0
      },
      "text/plain": [
       "HBox(children=(FloatProgress(value=0.0, max=7025.0), HTML(value='')))"
      ]
     },
     "metadata": {},
     "output_type": "display_data"
    },
    {
     "name": "stdout",
     "output_type": "stream",
     "text": [
      "\n",
      "==== EPOCH 9/20 ====\n",
      "loss: 3324.8899\n",
      "train acc: 0.8512 ||| test acc: 0.7112\n"
     ]
    },
    {
     "data": {
      "application/vnd.jupyter.widget-view+json": {
       "model_id": "5b9923f0323b44c89f0c164076bd2c50",
       "version_major": 2,
       "version_minor": 0
      },
      "text/plain": [
       "HBox(children=(FloatProgress(value=0.0, max=7025.0), HTML(value='')))"
      ]
     },
     "metadata": {},
     "output_type": "display_data"
    },
    {
     "name": "stdout",
     "output_type": "stream",
     "text": [
      "\n",
      "==== EPOCH 10/20 ====\n",
      "loss: 2965.6940\n",
      "train acc: 0.8795 ||| test acc: 0.6743\n"
     ]
    },
    {
     "data": {
      "application/vnd.jupyter.widget-view+json": {
       "model_id": "3a6e08684deb4e0486e2d3a247dcc6e8",
       "version_major": 2,
       "version_minor": 0
      },
      "text/plain": [
       "HBox(children=(FloatProgress(value=0.0, max=7025.0), HTML(value='')))"
      ]
     },
     "metadata": {},
     "output_type": "display_data"
    },
    {
     "name": "stdout",
     "output_type": "stream",
     "text": [
      "\n",
      "==== EPOCH 11/20 ====\n",
      "loss: 2585.0422\n",
      "train acc: 0.8947 ||| test acc: 0.6908\n"
     ]
    },
    {
     "data": {
      "application/vnd.jupyter.widget-view+json": {
       "model_id": "b03eac55e81240f19135dce5d4f71bd0",
       "version_major": 2,
       "version_minor": 0
      },
      "text/plain": [
       "HBox(children=(FloatProgress(value=0.0, max=7025.0), HTML(value='')))"
      ]
     },
     "metadata": {},
     "output_type": "display_data"
    },
    {
     "name": "stdout",
     "output_type": "stream",
     "text": [
      "\n",
      "==== EPOCH 12/20 ====\n",
      "loss: 2308.6105\n",
      "train acc: 0.9111 ||| test acc: 0.6962\n"
     ]
    },
    {
     "data": {
      "application/vnd.jupyter.widget-view+json": {
       "model_id": "7f80bcd82aed4619a18f31b1df7e6b26",
       "version_major": 2,
       "version_minor": 0
      },
      "text/plain": [
       "HBox(children=(FloatProgress(value=0.0, max=7025.0), HTML(value='')))"
      ]
     },
     "metadata": {},
     "output_type": "display_data"
    },
    {
     "name": "stdout",
     "output_type": "stream",
     "text": [
      "\n",
      "==== EPOCH 13/20 ====\n",
      "loss: 1944.6212\n",
      "train acc: 0.9288 ||| test acc: 0.6660\n"
     ]
    },
    {
     "data": {
      "application/vnd.jupyter.widget-view+json": {
       "model_id": "12dedcc0d5f141bc8e65e37b69cff66f",
       "version_major": 2,
       "version_minor": 0
      },
      "text/plain": [
       "HBox(children=(FloatProgress(value=0.0, max=7025.0), HTML(value='')))"
      ]
     },
     "metadata": {},
     "output_type": "display_data"
    },
    {
     "name": "stdout",
     "output_type": "stream",
     "text": [
      "\n",
      "==== EPOCH 14/20 ====\n",
      "loss: 1696.8842\n",
      "train acc: 0.9380 ||| test acc: 0.6985\n"
     ]
    },
    {
     "data": {
      "application/vnd.jupyter.widget-view+json": {
       "model_id": "05b54032e13a4f799ff068daaa452e77",
       "version_major": 2,
       "version_minor": 0
      },
      "text/plain": [
       "HBox(children=(FloatProgress(value=0.0, max=7025.0), HTML(value='')))"
      ]
     },
     "metadata": {},
     "output_type": "display_data"
    },
    {
     "name": "stdout",
     "output_type": "stream",
     "text": [
      "\n",
      "==== EPOCH 15/20 ====\n",
      "loss: 1414.6688\n",
      "train acc: 0.9515 ||| test acc: 0.7045\n"
     ]
    },
    {
     "data": {
      "application/vnd.jupyter.widget-view+json": {
       "model_id": "97ce6241de6f44d5ac4c54b5eb48bf3c",
       "version_major": 2,
       "version_minor": 0
      },
      "text/plain": [
       "HBox(children=(FloatProgress(value=0.0, max=7025.0), HTML(value='')))"
      ]
     },
     "metadata": {},
     "output_type": "display_data"
    },
    {
     "name": "stdout",
     "output_type": "stream",
     "text": [
      "\n",
      "==== EPOCH 16/20 ====\n",
      "loss: 1234.0689\n",
      "train acc: 0.9519 ||| test acc: 0.7140\n"
     ]
    },
    {
     "data": {
      "application/vnd.jupyter.widget-view+json": {
       "model_id": "f4baff2653a145eeabaee87a92b82893",
       "version_major": 2,
       "version_minor": 0
      },
      "text/plain": [
       "HBox(children=(FloatProgress(value=0.0, max=7025.0), HTML(value='')))"
      ]
     },
     "metadata": {},
     "output_type": "display_data"
    },
    {
     "name": "stdout",
     "output_type": "stream",
     "text": [
      "\n",
      "==== EPOCH 17/20 ====\n",
      "loss: 1116.7217\n",
      "train acc: 0.9473 ||| test acc: 0.6592\n"
     ]
    },
    {
     "data": {
      "application/vnd.jupyter.widget-view+json": {
       "model_id": "d11a0c2484cc43c88b33d0ffd57ec6bc",
       "version_major": 2,
       "version_minor": 0
      },
      "text/plain": [
       "HBox(children=(FloatProgress(value=0.0, max=7025.0), HTML(value='')))"
      ]
     },
     "metadata": {},
     "output_type": "display_data"
    },
    {
     "name": "stdout",
     "output_type": "stream",
     "text": [
      "\n",
      "==== EPOCH 18/20 ====\n",
      "loss: 983.8261\n",
      "train acc: 0.9549 ||| test acc: 0.6801\n"
     ]
    },
    {
     "data": {
      "application/vnd.jupyter.widget-view+json": {
       "model_id": "169113e3710b401f9b8a1449d50b4cd7",
       "version_major": 2,
       "version_minor": 0
      },
      "text/plain": [
       "HBox(children=(FloatProgress(value=0.0, max=7025.0), HTML(value='')))"
      ]
     },
     "metadata": {},
     "output_type": "display_data"
    },
    {
     "name": "stdout",
     "output_type": "stream",
     "text": [
      "\n",
      "==== EPOCH 19/20 ====\n",
      "loss: 885.7848\n",
      "train acc: 0.9701 ||| test acc: 0.7042\n"
     ]
    },
    {
     "data": {
      "application/vnd.jupyter.widget-view+json": {
       "model_id": "7f5de0d631674ddd8a900369eb83c4b6",
       "version_major": 2,
       "version_minor": 0
      },
      "text/plain": [
       "HBox(children=(FloatProgress(value=0.0, max=7025.0), HTML(value='')))"
      ]
     },
     "metadata": {},
     "output_type": "display_data"
    },
    {
     "name": "stdout",
     "output_type": "stream",
     "text": [
      "\n",
      "==== EPOCH 20/20 ====\n",
      "loss: 815.0270\n",
      "train acc: 0.9661 ||| test acc: 0.7035\n"
     ]
    }
   ],
   "source": [
    "EPOCH = 20\n",
    "train_acc = []\n",
    "test_acc = []\n",
    "loss_record = []\n",
    "print( datetime.date.today().strftime('%Y-%m-%d %H:%M:%S') )\n",
    "for epoch in range(EPOCH):\n",
    "    running_loss = 0.0\n",
    "    \n",
    "    for X, y in tqdm(train_loader):\n",
    "        X, y = X.to(DEVICE), y.to(DEVICE)\n",
    "        optimizer.zero_grad()\n",
    "        outputs = net(X)\n",
    "\n",
    "        loss = criterion(outputs, y)\n",
    "        loss.backward()\n",
    "\n",
    "        optimizer.step()\n",
    "\n",
    "        running_loss += loss.item()\n",
    "    \n",
    "    print(\"==== EPOCH %d/%d ====\" % (epoch+1, EPOCH))\n",
    "    print( datetime.date.today().strftime('%Y-%m-%d %H:%M:%S') )\n",
    "    print(\"loss: %.4f\" % running_loss)\n",
    "    buf1, buf2 = get_prediction(train_loader), get_prediction(test_loader)\n",
    "    train_acc = train_acc + [buf1]\n",
    "    test_acc = test_acc + [buf2]\n",
    "    loss_record = loss_record + [running_loss]\n",
    "    print(\"train acc: %.4f ||| test acc: %.4f\" % (buf1, buf2))\n",
    "    \n",
    "    Path = \"resnet_18_pretrain_epoch_%s.pt\" % epoch\n",
    "    torch.save(net, Path)"
   ]
  },
  {
   "cell_type": "code",
   "execution_count": null,
   "metadata": {},
   "outputs": [],
   "source": []
  },
  {
   "cell_type": "code",
   "execution_count": null,
   "metadata": {},
   "outputs": [],
   "source": []
  }
 ],
 "metadata": {
  "kernelspec": {
   "display_name": "Python 3",
   "language": "python",
   "name": "python3"
  },
  "language_info": {
   "codemirror_mode": {
    "name": "ipython",
    "version": 3
   },
   "file_extension": ".py",
   "mimetype": "text/x-python",
   "name": "python",
   "nbconvert_exporter": "python",
   "pygments_lexer": "ipython3",
   "version": "3.7.7"
  }
 },
 "nbformat": 4,
 "nbformat_minor": 2
}
